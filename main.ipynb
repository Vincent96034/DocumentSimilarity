{
 "cells": [
  {
   "cell_type": "code",
   "execution_count": 17,
   "metadata": {},
   "outputs": [],
   "source": [
    "import pandas as pd\n",
    "from tqdm import tqdm\n",
    "import pprint\n",
    "\n",
    "from embedding import OneHotEmbedder, Doc2VecEmbedder\n",
    "from vectorstore import SimpleVectorDatabase\n",
    "from models import TextDoc, Vector"
   ]
  },
  {
   "cell_type": "code",
   "execution_count": 2,
   "metadata": {},
   "outputs": [],
   "source": [
    "# This parameter is used to set the vector dimension of the embedding algorithm and the \n",
    "# vector database. The higher the dimension, the more accurate the results will be, but\n",
    "# the more computationally expensive the calculations will be. OpenAI's embedding models\n",
    "# use a dimension of 1536 as a reference.\n",
    "\n",
    "VECTOR_DIM = 500"
   ]
  },
  {
   "cell_type": "code",
   "execution_count": 28,
   "metadata": {},
   "outputs": [
    {
     "data": {
      "text/html": [
       "<div>\n",
       "<style scoped>\n",
       "    .dataframe tbody tr th:only-of-type {\n",
       "        vertical-align: middle;\n",
       "    }\n",
       "\n",
       "    .dataframe tbody tr th {\n",
       "        vertical-align: top;\n",
       "    }\n",
       "\n",
       "    .dataframe thead th {\n",
       "        text-align: right;\n",
       "    }\n",
       "</style>\n",
       "<table border=\"1\" class=\"dataframe\">\n",
       "  <thead>\n",
       "    <tr style=\"text-align: right;\">\n",
       "      <th></th>\n",
       "      <th>id</th>\n",
       "      <th>url</th>\n",
       "      <th>title</th>\n",
       "      <th>text</th>\n",
       "    </tr>\n",
       "  </thead>\n",
       "  <tbody>\n",
       "    <tr>\n",
       "      <th>0</th>\n",
       "      <td>3255</td>\n",
       "      <td>https://en.wikipedia.org/wiki/Apostles%27%20Creed</td>\n",
       "      <td>Apostles' Creed</td>\n",
       "      <td>The Apostles' Creed (Latin: Symbolum Apostolor...</td>\n",
       "    </tr>\n",
       "    <tr>\n",
       "      <th>1</th>\n",
       "      <td>27487</td>\n",
       "      <td>https://en.wikipedia.org/wiki/Split%20screen%2...</td>\n",
       "      <td>Split screen (video production)</td>\n",
       "      <td>In film and video production, split screen is ...</td>\n",
       "    </tr>\n",
       "    <tr>\n",
       "      <th>2</th>\n",
       "      <td>37686</td>\n",
       "      <td>https://en.wikipedia.org/wiki/Parasports</td>\n",
       "      <td>Parasports</td>\n",
       "      <td>Parasports are sports played by people with a ...</td>\n",
       "    </tr>\n",
       "    <tr>\n",
       "      <th>3</th>\n",
       "      <td>18739</td>\n",
       "      <td>https://en.wikipedia.org/wiki/Laika</td>\n",
       "      <td>Laika</td>\n",
       "      <td>Laika (; c. 1954 – 3 November 1957) was a Sovi...</td>\n",
       "    </tr>\n",
       "    <tr>\n",
       "      <th>4</th>\n",
       "      <td>39095</td>\n",
       "      <td>https://en.wikipedia.org/wiki/Extension%20%28s...</td>\n",
       "      <td>Extension (semantics)</td>\n",
       "      <td>§\\nIn any of several fields of study that trea...</td>\n",
       "    </tr>\n",
       "  </tbody>\n",
       "</table>\n",
       "</div>"
      ],
      "text/plain": [
       "      id                                                url  \\\n",
       "0   3255  https://en.wikipedia.org/wiki/Apostles%27%20Creed   \n",
       "1  27487  https://en.wikipedia.org/wiki/Split%20screen%2...   \n",
       "2  37686           https://en.wikipedia.org/wiki/Parasports   \n",
       "3  18739                https://en.wikipedia.org/wiki/Laika   \n",
       "4  39095  https://en.wikipedia.org/wiki/Extension%20%28s...   \n",
       "\n",
       "                             title  \\\n",
       "0                  Apostles' Creed   \n",
       "1  Split screen (video production)   \n",
       "2                       Parasports   \n",
       "3                            Laika   \n",
       "4            Extension (semantics)   \n",
       "\n",
       "                                                text  \n",
       "0  The Apostles' Creed (Latin: Symbolum Apostolor...  \n",
       "1  In film and video production, split screen is ...  \n",
       "2  Parasports are sports played by people with a ...  \n",
       "3  Laika (; c. 1954 – 3 November 1957) was a Sovi...  \n",
       "4  §\\nIn any of several fields of study that trea...  "
      ]
     },
     "execution_count": 28,
     "metadata": {},
     "output_type": "execute_result"
    }
   ],
   "source": [
    "# load wikipedia dataset (find data also in the `data_load` notebook)\n",
    "dataset = pd.read_csv(\"data_local/wiki_subset_small.csv\", sep=\",\")\n",
    "\n",
    "# take only the first rows due to computation time\n",
    "dataset = dataset.head(VECTOR_DIM)\n",
    "dataset.head()"
   ]
  },
  {
   "cell_type": "code",
   "execution_count": 4,
   "metadata": {},
   "outputs": [
    {
     "name": "stderr",
     "output_type": "stream",
     "text": [
      "2023-12-04 12:43:43,019::onehotembedder.py[_fit()]::INFO::Fitting embedder. Preprocessing documents...\n",
      "100%|██████████| 500/500 [00:10<00:00, 49.62it/s]\n",
      "2023-12-04 12:43:53,219::onehotembedder.py[_fit()]::INFO::Corpus created with 88538 words.\n",
      "2023-12-04 12:43:53,219::onehotembedder.py[_fit()]::INFO::Reducing vector dimensions: fitting PCA (n=500)\n"
     ]
    }
   ],
   "source": [
    "# Choose the embedder model to use: OneHot or Doc2Vec currently available\n",
    "embedder = OneHotEmbedder(vector_dim=VECTOR_DIM) # Doc2VecEmbedder(vector_dim=VECTOR_DIM)\n",
    "\n",
    "# fit the embedder model: this could take a view minutes\n",
    "embedder.fit(list(dataset.text))"
   ]
  },
  {
   "cell_type": "code",
   "execution_count": 5,
   "metadata": {},
   "outputs": [
    {
     "name": "stderr",
     "output_type": "stream",
     "text": [
      "100%|██████████| 500/500 [00:41<00:00, 11.95it/s]\n"
     ]
    }
   ],
   "source": [
    "# create vector database instance\n",
    "vecdb = SimpleVectorDatabase(vector_dim=VECTOR_DIM)\n",
    "\n",
    "# create vectors and stores them in the database\n",
    "for i in tqdm(range(len(dataset))):\n",
    "    row = dataset.iloc[i]\n",
    "    doc = TextDoc(row.text)\n",
    "    vec = Vector(\n",
    "        embedding=embedder.embed(doc),\n",
    "        data=TextDoc(doc),\n",
    "        metadata={\"type\": \"wikipedia\", \"src\": row.url, \"title\": row.title})\n",
    "    vecdb.upsert(vec)"
   ]
  },
  {
   "cell_type": "code",
   "execution_count": 6,
   "metadata": {},
   "outputs": [
    {
     "name": "stdout",
     "output_type": "stream",
     "text": [
      "TextDoc(2494): A chemical patent, pharmaceutical patent or drug patent ...\n",
      "<Vector 1d41aec3-816c-4c68-b3e1-4a85e60eb4c9 (500) : TextDoc(2494): A chemical patent, pharmaceutical patent or drug patent ...>\n"
     ]
    }
   ],
   "source": [
    "# Let's take the last row of the dataset and query the database for similar vectors.\n",
    "row = dataset.iloc[-1,:]\n",
    "new_doc = TextDoc(row.text)\n",
    "print(new_doc)\n",
    "\n",
    "# create the vector model used by our database\n",
    "new_vec = Vector(\n",
    "    embedding=embedder.embed(new_doc),\n",
    "    data=TextDoc(new_doc),\n",
    "    metadata={\"type\": \"wikipedia\", \"src\": row.url, \"title\": row.title}\n",
    ")\n",
    "print(new_vec)"
   ]
  },
  {
   "cell_type": "code",
   "execution_count": 36,
   "metadata": {},
   "outputs": [
    {
     "data": {
      "text/plain": [
       "[{'vector': <Vector 45eb0314-66cb-4a79-b499-1ea509f01f69 (500) : TextDoc(2494): A chemical patent, pharmaceutical patent or drug patent ...>,\n",
       "  'score': 1413.6689079995763},\n",
       " {'vector': <Vector c58b0eb7-ffe7-45a5-9bb9-3b9cca82a7a7 (500) : TextDoc(18734): A chemical formula is a way of  presenting information  ...>,\n",
       "  'score': 916.3589079998607},\n",
       " {'vector': <Vector 9733ec31-1ed5-4264-bee8-9e059b07178c (500) : TextDoc(263): Risa may refer to:\n",
       "  \n",
       "   Risa (given name), a feminine give ...>,\n",
       "  'score': 837.5069079995632},\n",
       " {'vector': <Vector b320f317-5354-4902-9ac2-268138919e41 (500) : TextDoc(85): The 760s decade ran from January 1, 760, to December 31 ...>,\n",
       "  'score': 837.3649079995587},\n",
       " {'vector': <Vector 2a3bcf28-4e60-4448-994a-9eb8dab7deac (500) : TextDoc(281): Jan Borukowski of Bielin (1524–1584) was the Bishop\n",
       "  of  ...>,\n",
       "  'score': 836.3569079995575}]"
      ]
     },
     "execution_count": 36,
     "metadata": {},
     "output_type": "execute_result"
    }
   ],
   "source": [
    "# Now we can query the database for similar vectors. Select the measure to use and the\n",
    "# number of similar vectors to return.\n",
    "# Currently implemented measures are: cosine, euclidean and dot.\n",
    "similar_vectors = vecdb.sim_search(new_vec, measure=\"dot\", k=5)\n",
    "similar_vectors"
   ]
  },
  {
   "cell_type": "code",
   "execution_count": 37,
   "metadata": {},
   "outputs": [
    {
     "name": "stdout",
     "output_type": "stream",
     "text": [
      "Vector:       [title: Chemical patent] TextDoc(2494): A chemical patent, pharmaceutical patent or drug patent ...\n",
      "Most similar: [title: Chemical patent] TextDoc(2494): A chemical patent, pharmaceutical patent or drug patent ...\n",
      "Most similar: [title: Chemical formula] TextDoc(18734): A chemical formula is a way of  presenting information  ...\n",
      "Most similar: [title: Risa] TextDoc(263): Risa may refer to:\n",
      "\n",
      " Risa (given name), a feminine give ...\n",
      "Most similar: [title: 760s] TextDoc(85): The 760s decade ran from January 1, 760, to December 31 ...\n",
      "Most similar: [title: Jan Borukowski] TextDoc(281): Jan Borukowski of Bielin (1524–1584) was the Bishop\n",
      "of  ...\n"
     ]
    }
   ],
   "source": [
    "print(f\"Vector:       [title: {new_vec.metadata['title']}] {new_vec.data}\")\n",
    "for i in range(len(similar_vectors)):\n",
    "    print(f\"Most similar: [title: {similar_vectors[i]['vector'].metadata['title']}] {similar_vectors[i]['vector'].data}\")"
   ]
  },
  {
   "cell_type": "code",
   "execution_count": 23,
   "metadata": {},
   "outputs": [
    {
     "name": "stdout",
     "output_type": "stream",
     "text": [
      "('A chemical patent, pharmaceutical patent or drug patent is a patent for an invention in the chemical or pharmaceuticals industry. Strictly '\n",
      " 'speaking, in most jurisdictions, there are essentially no differences between the legal requirements to obtain a patent for an invention in the '\n",
      " 'chemical or pharmaceutical fields, in comparison to obtaining a patent in the other fields, such as in the mechanical field. A chemical patent or '\n",
      " 'a pharmaceutical patent is therefore not a sui generis right, i.e. a special legal type of patent.\\n'\n",
      " '\\n'\n",
      " 'In the pharmaceutical industry, the patent protection of drugs and medicines is accorded a particular importance, because drugs and medicines can '\n",
      " 'easily be copied or imitated (by analyzing a pharmaceutical substance) and because of the significant research and development spending and the '\n",
      " 'high risks associated with the development of a new drug.\\n'\n",
      " '\\n'\n",
      " 'Chemical patents are different from other sources of technical information because of the generic, Markush structures cont')\n"
     ]
    }
   ],
   "source": [
    "# Search Article\n",
    "pp = pprint.PrettyPrinter(width=150, compact=True)\n",
    "pp.pprint(new_vec.data.body[:1000])"
   ]
  },
  {
   "cell_type": "code",
   "execution_count": 25,
   "metadata": {},
   "outputs": [
    {
     "name": "stdout",
     "output_type": "stream",
     "text": [
      "('A chemical formula is a way of  presenting information about the chemical proportions of atoms that constitute a particular chemical compound or '\n",
      " 'molecule, using chemical element symbols, numbers, and sometimes also other symbols, such as parentheses, dashes, brackets, commas and plus (+) '\n",
      " 'and minus (−) signs. These are limited to a single typographic line of symbols, which may include subscripts and superscripts. A chemical formula '\n",
      " 'is not a chemical name, and it contains no words. Although a chemical formula may imply certain simple chemical structures, it is not the same as '\n",
      " 'a full chemical structural formula. Chemical formulae can fully specify the structure of only the simplest of molecules and chemical substances, '\n",
      " 'and are generally more limited in power than chemical names and structural formulae.\\n'\n",
      " '\\n'\n",
      " 'The simplest types of chemical formulae are called empirical formulae, which use letters and numbers indicating the numerical proportions of atoms '\n",
      " 'of each type. Molecular formulae indicate')\n"
     ]
    }
   ],
   "source": [
    "# Search Result Article\n",
    "pp.pprint(similar_vectors[1]['vector'].data.body[:1000])"
   ]
  }
 ],
 "metadata": {
  "kernelspec": {
   "display_name": "venv",
   "language": "python",
   "name": "python3"
  },
  "language_info": {
   "codemirror_mode": {
    "name": "ipython",
    "version": 3
   },
   "file_extension": ".py",
   "mimetype": "text/x-python",
   "name": "python",
   "nbconvert_exporter": "python",
   "pygments_lexer": "ipython3",
   "version": "3.11.3"
  },
  "orig_nbformat": 4
 },
 "nbformat": 4,
 "nbformat_minor": 2
}

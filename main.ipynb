{
 "cells": [
  {
   "cell_type": "code",
   "execution_count": 1,
   "metadata": {},
   "outputs": [],
   "source": [
    "import pandas as pd\n",
    "from tqdm import tqdm\n",
    "\n",
    "from embedding.onehotembedder import OneHotEmbedder\n",
    "from vectorstore.simplevec import SimpleVectorDatabase\n",
    "from models.text import TextDoc\n",
    "from models.vec import Vector"
   ]
  },
  {
   "cell_type": "code",
   "execution_count": 2,
   "metadata": {},
   "outputs": [],
   "source": [
    "VECTOR_DIM = 1500"
   ]
  },
  {
   "cell_type": "code",
   "execution_count": 3,
   "metadata": {},
   "outputs": [],
   "source": [
    "# load wikipedia dataset (find data in data_load notebook)\n",
    "dataset = pd.read_csv(\"data_local/wiki_subset_small.csv\", sep=\",\")\n",
    "dataset = dataset.head(VECTOR_DIM)\n",
    "# there need to be at least as many documents as the vector dimension"
   ]
  },
  {
   "cell_type": "code",
   "execution_count": 4,
   "metadata": {},
   "outputs": [
    {
     "name": "stderr",
     "output_type": "stream",
     "text": [
      "2023-12-03 14:07:22,043::onehotembedder.py[_fit()]::INFO::Fitting embedder. Preprocessing documents...\n",
      "100%|██████████| 1500/1500 [00:29<00:00, 50.24it/s]\n",
      "2023-12-03 14:07:52,121::onehotembedder.py[_fit()]::INFO::Corpus created with 185292 words.\n",
      "2023-12-03 14:07:52,122::onehotembedder.py[_fit()]::INFO::Reducing vector dimensions: fitting PCA with 1500\n"
     ]
    }
   ],
   "source": [
    "# fit the embedder\n",
    "embedder = OneHotEmbedder(vector_dim=VECTOR_DIM)\n",
    "embedder.fit(list(dataset.text))"
   ]
  },
  {
   "cell_type": "code",
   "execution_count": 5,
   "metadata": {},
   "outputs": [
    {
     "name": "stderr",
     "output_type": "stream",
     "text": [
      "100%|██████████| 1500/1500 [03:13<00:00,  7.76it/s]\n"
     ]
    }
   ],
   "source": [
    "# create vector database\n",
    "vecdb = SimpleVectorDatabase(vector_dim=VECTOR_DIM)\n",
    "\n",
    "# create vectors and store in database\n",
    "for i in tqdm(range(len(dataset))):\n",
    "    row = dataset.iloc[i]\n",
    "    doc = TextDoc(row.text)\n",
    "    vec = Vector(\n",
    "        embedding=embedder.embed(doc),\n",
    "        data=TextDoc(doc),\n",
    "        metadata={\"type\": \"wikipedia\", \"src\": row.url, \"title\": row.title})\n",
    "    vecdb.upsert(vec)"
   ]
  },
  {
   "cell_type": "code",
   "execution_count": 6,
   "metadata": {},
   "outputs": [
    {
     "name": "stdout",
     "output_type": "stream",
     "text": [
      "TextDoc(42479): A neutron star is the collapsed core of a massive super ...\n"
     ]
    }
   ],
   "source": [
    "row = dataset.iloc[-1,:]\n",
    "new_doc = TextDoc(row.text)\n",
    "print(new_doc)\n",
    "\n",
    "new_vec = Vector(\n",
    "    embedding=embedder.embed(new_doc),\n",
    "    data=TextDoc(new_doc),\n",
    "    metadata={\"type\": \"wikipedia\", \"src\": row.url, \"title\": row.title}\n",
    ")"
   ]
  },
  {
   "cell_type": "code",
   "execution_count": 13,
   "metadata": {},
   "outputs": [
    {
     "data": {
      "text/plain": [
       "TextDoc(27260): Hesychasm (; Greek: Ησυχασμός) is a mystical tradition  ..."
      ]
     },
     "execution_count": 13,
     "metadata": {},
     "output_type": "execute_result"
    }
   ],
   "source": [
    "vector_1 = vecdb.get_random_vector()\n",
    "vector_1.data"
   ]
  },
  {
   "cell_type": "code",
   "execution_count": 16,
   "metadata": {},
   "outputs": [
    {
     "data": {
      "text/plain": [
       "[{'vector': <models.vec.Vector at 0x17deb2a50>, 'score': 1.0},\n",
       " {'vector': <models.vec.Vector at 0x17dda34d0>, 'score': 0.40092767542461605},\n",
       " {'vector': <models.vec.Vector at 0x17dd12c50>, 'score': 0.2910714883379696},\n",
       " {'vector': <models.vec.Vector at 0x17dd62ed0>, 'score': 0.26451210497771876},\n",
       " {'vector': <models.vec.Vector at 0x17de0d490>, 'score': 0.24988477528944558}]"
      ]
     },
     "execution_count": 16,
     "metadata": {},
     "output_type": "execute_result"
    }
   ],
   "source": [
    "similar_vectors = vecdb.sim_search(vector_1, measure=\"cosine\", k=5)\n",
    "similar_vectors"
   ]
  },
  {
   "cell_type": "code",
   "execution_count": 21,
   "metadata": {},
   "outputs": [
    {
     "name": "stdout",
     "output_type": "stream",
     "text": [
      "vector:       [Hesychasm] TextDoc(27260): Hesychasm (; Greek: Ησυχασμός) is a mystical tradition  ...\n",
      "most similar: [Supersessionism] TextDoc(21238): Supersessionism, also called replacement theology, is a ...\n"
     ]
    }
   ],
   "source": [
    "print(f\"vector:       [{vector_1.metadata['title']}] {vector_1.data}\")\n",
    "i = 4\n",
    "print(f\"most similar: [{similar_vectors[i]['vector'].metadata['title']}] {similar_vectors[i]['vector'].data}\")"
   ]
  },
  {
   "cell_type": "code",
   "execution_count": 18,
   "metadata": {},
   "outputs": [
    {
     "data": {
      "text/plain": [
       "'Hesychasm (; Greek: Ησυχασμός) is a mystical tradition of contemplative prayer in the Eastern Orthodox Church. Based on Jesus\\'s injunction in the Gospel of Matthew that \"whenever you pray, go into your room and shut the door and pray to your Father who is in secret; and your Father who sees in secret will reward you\", hesychasm in tradition has been the process of retiring inward by ceasing to register the senses, in order to achieve an experiential knowledge of God (see Theoria).\\n\\nEtymology\\n\\nMeaning\\nHesychasm (, Modern ) derives from the word hesychia (, ), meaning \"stillness, rest, quiet, silence\" and hesychazo ( ) \"to keep stillness\".\\n\\nUsage\\nMetropolitan Kallistos Ware, a scholar of Eastern Orthodox theology, distinguishes five distinct usages of the term \"hesychasm\":\\n\\n \"solitary life\", a sense, equivalent to \"eremitical life\", in which the term is used since the 4th century;\\n \"the practice of inner prayer, aiming at union with God on a level beyond images, concepts and language\", a sense in which the term is found in Evagrius Ponticus (345–399), Maximus the Confessor (c. 580 – 662), and Symeon the New Theologian (949–1022);\\n \"the quest for such union through the Jesus Prayer\", the earliest reference to which is in Diadochos of Photiki (c. 450);\\n \"a particular psychosomatic technique in combination with the Jesus Prayer\", use of which technique can be traced back at least to the 13th century;\\n \"the theology of St. Gregory Palamas\", on which see Palamism.\\n\\nHistory of the term\\nThe origin of the term hesychasmos, and of the related terms hesychastes, hesychia and hesychazo, is not entirely certain.  The basic term hesychia and its various derivatives appear in the Greek Septuagint Old Testament (LXX), from the Book of Genesis (Gen. 4:7.) In total \"hesychia\" is found 60 times in the Septuagint in various forms and through the Septuagint it had entered the Judaic vocabulary as early as the 3rd century BC. In the Greek New Testament it is found 11 times. In total in the Greek Bible of the ancient Church it is found 71 times (57 times in the 66-book Bibles.) According to the entries in Lampe\\'s A Patristic Greek Lexicon, the basic terms hesychia and hesychazo are also found in such fathers as St. John Chrysostom and the Cappadocians. The terms also appear in the same period in Evagrius Pontikos (c. 345 – 399), who although he is writing in Egypt is out of the circle of the Cappadocians, and in the Sayings of the Desert Fathers.\\n\\nThe term hesychast is used sparingly in Christian ascetical writings emanating from Egypt from the 4th century on, although the writings of Evagrius and the Sayings of the Desert Fathers do attest to it. In Egypt, the terms more often used are anchoretism (Gr. , \"withdrawal, retreat\"), and anchorite (Gr. , \"one who withdraws or retreats, i.e. a hermit\").\\n\\nThe term hesychast was used in the 6th century in Palestine in the Lives of Cyril of Scythopolis, many of which lives treat of hesychasts who were contemporaries of Cyril. Several of the saints about whom Cyril was writing, especially Euthymios and Savas, were in fact from Cappadocia. The laws (novellae) of the emperor Justinian I (r. 527–565) treat hesychast and anchorite as synonyms, making them interchangeable terms.\\n\\nThe terms hesychia and hesychast are used quite systematically in the Ladder of Divine Ascent of St. John of Sinai (523–603) and in Pros Theodoulon by St. Hesychios (c. 750?), who is ordinarily also considered to be of the School of Sinai. It is not known where either St. John of Sinai or St. Hesychios were born, nor where they received their monastic formation.\\n\\nIt appears that the particularity of the term hesychast has to do with the integration of the continual repetition of the Jesus Prayer into the practices of mental ascesis that were already used by hermits in Egypt.  Hesychasm itself is not recorded in Lampe\\'s Lexicon, which indicates that it is a later usage, and the term Jesus Prayer is not found in any of the fathers of the church. Saint John Cassian (c. 360 – 435) presents as the formula used in Egypt for repetitive prayer, not the Jesus Prayer, but \"O God, make speed to save me: O Lord, make haste to help me.\"\\n\\nBy the 14th century, however, on Mount Athos the terms hesychasm and hesychast refer to the practice and to the practitioner of a method of mental ascesis that involves the use of the Jesus Prayer assisted by certain psychophysical techniques. Most likely, the rise of the term hesychasm reflects the coming to the fore of this practice as something concrete and specific that can be discussed.\\n\\nBooks used by the hesychast include the Philokalia, a collection of texts on prayer and solitary mental ascesis written from the 4th to the 15th centuries, which exists in a number of independent redactions; the Ladder of Divine Ascent; the collected works of St. Symeon the New Theologian (949–1022); and the works of St. Isaac the Syrian (7th century), as they were selected and translated into Greek at the Monastery of St. Savas near Jerusalem about the 10th century.\\n\\nOrigins\\n\\nEvagrius Ponticus\\nHesychastic practice involves acquiring an inner focus and blocking of the physical senses. In this, hesychasm shows its roots in Evagrius Ponticus.\\n\\nJewish Merkabah mysticism\\nAccording to some of the adepts of the Jewish Merkabah mystical tradition, if one wished to \"descend to the Merkabah\" one had to adopt the prayer posture taken by the prophet Elijah in I Kings 18:42, namely to pray with one\\'s head between one\\'s knees. This is the same prayer posture used by the Christian hesychasts and is the reason that they were mocked by their opponents as \"navel gazers\" (omphalopsychites). This bodily position and the practice of rhythmically breathing while invoking a divine name seems to be common to both Jewish Merkabah mysticism and Christian hesychasm. Thus the practice may have origins in the ascetical practices of the biblical prophets.\\n\\nAlan Segal in his book Paul the Convert suggests that the Apostle Paul may have been an early adept of Merkabah mysticism in which case what was novel to Paul\\'s experience of divine light on the road to Damascus was not the experience of divine light itself, but that the source of this divine light identified himself as the Jesus whose followers Paul was persecuting. Daniel Boyarin notes that Paul\\'s own account of this experience would therefore be the earliest first person account of the mystical vision of a Merkabah adept.\\n\\nGospel-interpretation\\nThe hesychast interprets Jesus\\'s injunction in the Gospel of Matthew to \"go into your closet to pray\" to mean that one should ignore the senses and withdraw inward. Saint John of Sinai writes:\\n\\nPractice\\n\\nStages\\n\\nTheosis is obtained by engaging in contemplative prayer resulting from the cultivation of watchfulness (Gk: nepsis). According to the standard ascetic formulation of this process, there are three stages: \\n\\n Katharsis () or purification,\\n Theoria () or illumination, and \\n Theosis () or deification (also referred to as union with God).\\n\\nKatharsis (purification)\\n\\nSobriety contributes to this mental ascesis that rejects tempting thoughts; it puts a great emphasis on focus and attention. The hesychast is to pay extreme attention to the consciousness of his inner world and to the words of the Jesus Prayer, not letting his mind wander in any way at all. While he maintains his practice of the Jesus Prayer, which becomes automatic and continues twenty-four hours a day, seven days a week, the hesychast cultivates nepsis, watchful attention, to reject tempting thoughts (the \"thieves\") that come to the hesychast as he watches in sober attention in his hermitage. St. John of Sinai describes hesychast practice as follows:\\n\\nThe hesychast is to attach Eros (), that is, \"yearning\", to his practice of sobriety so as to overcome the temptation to acedia (sloth). He is also to use an extremely directed and controlled anger against the tempting thoughts, although to obliterate them entirely he is to invoke Jesus Christ via the Jesus Prayer.\\n\\nMuch of the literature of hesychasm is occupied with the psychological analysis of such tempting thoughts (e.g. St. Mark the Ascetic). This psychological analysis owes much to the ascetical works of Evagrius Pontikos, with its doctrine of the eight passions.\\n\\nTheoria (illumination)\\n\\nThe primary task of the hesychast is to engage in mental ascesis. The hesychast is to bring his mind (Gr. nous) into his heart so as to practise both the Jesus Prayer and sobriety with his mind in his heart. In solitude and retirement, the hesychast repeats the Jesus Prayer, \"Lord Jesus Christ, son of God, have mercy on me, the sinner.\" The hesychast prays the Jesus Prayer \\'with the heart\\'—with meaning, with intent, \"for real\" (see ontic). He never treats the Jesus Prayer as a string of syllables whose \"surface\" or overt verbal meaning is secondary or unimportant. He considers bare repetition of the Jesus Prayer as a mere string of syllables, perhaps with a \"mystical\" inner meaning beyond the overt verbal meaning, to be worthless or even dangerous. This emphasis on the actual, real invocation of Jesus Christ mirrors an Eastern understanding of mantra in that physical action/voice and meaning are utterly inseparable.\\n\\nThe descent of the mind into the heart is taken quite literally by the practitioners of hesychasm and is not at all considered to be a metaphorical expression. Some of the psychophysical techniques described in the texts are to assist the descent of the mind into the heart at those times that only with difficulty it descends on its own.\\n\\nThe goal at this stage is a practice of the Jesus Prayer with the mind in the heart, which practice is free of images (see Pros Theodoulon). By the exercise of sobriety (the mental ascesis against tempting thoughts), the hesychast arrives at a continual practice of the Jesus Prayer with his mind in his heart and where his consciousness is no longer encumbered by the spontaneous inception of images: his mind has a certain stillness and emptiness that is punctuated only by the eternal repetition of the Jesus Prayer.\\n\\nThis stage is called the guard of the mind. This is a very advanced stage of ascetical and spiritual practice, and attempting to accomplish this prematurely, especially with psychophysical techniques, can cause very serious spiritual and emotional harm to the would-be hesychast. St. Theophan the Recluse once remarked that bodily postures and breathing techniques were virtually forbidden in his youth, since, instead of gaining the Spirit of God, people succeeded only \"in ruining their lungs.\"\\n\\nThe guard of the mind is the practical goal of the hesychast. It is the condition in which he remains as a matter of course throughout his day, every day until he dies.\\n\\nThere is a very great emphasis on humility in the practice of the Jesus Prayer, great cautions being given in the texts about the disaster that will befall the would-be hesychast if he proceeds in pride, arrogance or conceit. It is also assumed in the hesychast texts that the hesychast is a member of the Orthodox Church in good standing.\\n\\nTheosis (deification)\\n\\nTheosis is from the guard of the mind that he is raised to contemplation by the grace of God.\\n\\nThe hesychast usually experiences the contemplation of God as light, the \"uncreated light\" of the theology of St. Gregory Palamas. The hesychast, when he has by the mercy of God been granted such an experience, does not remain in that experience for a very long time (there are exceptions—see for example the Life of St. Savas the Fool for Christ (14th century), written by St. Philotheos Kokkinos (14th century)), but he returns \"to earth\" and continues to practise the guard of the mind.\\n\\nThe uncreated light that the hesychast experiences is identified with the Holy Spirit. Experiences of the uncreated light are allied to the \\'acquisition of the Holy Spirit\\'. Notable accounts of encounters with the Holy Spirit in this fashion are found in St. Symeon the New Theologian\\'s account of the illumination of \"George\" (considered a pseudonym of St. Symeon himself); in the \"conversation with Motovilov\" in the Life of St. Seraphim of Sarov (1759–1833); and, more recently, in the reminiscences of Elder Porphyrios (Bairaktaris) of Kafsokalivia (Wounded by Love pp.\\xa027–31).\\n\\nIntegration in Orthodox Church life\\nHesychasts are fully integrated into the liturgical and sacramental life of the Orthodox Church, including the daily cycle of liturgical prayer of the Divine Office and the Divine Liturgy. However, hesychasts who are living as hermits might have a very rare attendance at the Divine Liturgy (see the life of Saint Seraphim of Sarov) and might not recite the Divine Office except by means of the Jesus Prayer (attested practice on Mt Athos). In general, the hesychast restricts his external activities for the sake of his hesychastic practice.\\n\\nOrthodox tradition warns against seeking ecstasy as an end in itself. Hesychasm is a traditional complex of ascetical practices embedded in the doctrine and practice of the Orthodox Church and intended to purify the member of the Orthodox Church and to make him ready for an encounter with God that comes to him when and if God wants, through God\\'s grace. The goal is to acquire, through purification and grace, the Holy Spirit and salvation. Any ecstatic states or other unusual phenomena which may occur in the course of hesychast practice are considered secondary and unimportant, even quite dangerous. Moreover, seeking after unusual \"spiritual\" experiences can itself cause great harm, ruining the soul and the mind of the seeker. Such a seeking after \"spiritual\" experiences can lead to spiritual delusion (Ru. prelest, Gr. plani)—the antonym of sobriety—in which a person believes himself or herself to be a saint, has hallucinations in which he or she \"sees\" angels, Christ, etc. This state of spiritual delusion is in a superficial, egotistical way pleasurable, but can lead to madness and suicide, and, according to the hesychast fathers, makes salvation impossible.\\n\\nMount Athos is a center of the practice of hesychasm. St Paisius Velichkovsky and his disciples made the practice known in Russia and Romania, although hesychasm was already previously known in Russia, as is attested by St Seraphim of Sarov\\'s independent practice of it.\\n\\nHesychast controversy\\n\\nAbout the year 1337, hesychasm attracted the attention of a learned member of the Orthodox Church, Barlaam, a Calabrian monk who at that time held the office of abbot in the Monastery of St Saviour in Constantinople and who visited Mount Athos. Mount Athos was then at the height of its fame and influence, under the reign of Andronicus III Palaeologus and under the leadership of the Protos Symeon. On Mount Athos, Barlaam encountered hesychasts and heard descriptions of their practices, also reading the writings of the teacher in hesychasm of St Gregory Palamas, himself an Athonite monk. Trained in Western Scholastic theology, Barlaam was scandalized by hesychasm and began to combat it both orally and in his writings. As a private teacher of theology in the Western Scholastic mode, Barlaam propounded a more intellectual and propositional approach to the knowledge of God than the hesychasts taught.\\n\\nBarlaam took exception to the doctrine entertained by the hesychasts as to the nature of the light, the experience of which was said to be the goal of hesychast practice, regarding it as heretical and blasphemous. It was maintained by the hesychasts to be of divine origin and to be identical to the light which had been manifested to Jesus\\' disciples on Mount Tabor at the Transfiguration. This Barlaam held to be polytheistic, inasmuch as it postulated two eternal substances, a visible and an invisible God.\\n\\nOn the hesychast side, the controversy was taken up by St Gregory Palamas, afterwards Archbishop of Thessalonica, who was asked by his fellow monks on Mt Athos to defend hesychasm from the attacks of Barlaam. St Gregory himself was well-educated in Greek philosophy. St Gregory defended hesychasm in the 1340s at three different synods in Constantinople, and he also wrote a number of works in its defense.\\n\\nIn these works, St Gregory Palamas uses a distinction, already found in the 4th century in the works of the Cappadocian Fathers, between the energies or operations (Gr. energeiai) of God and the essence of God. St Gregory taught that the energies or operations of God were uncreated. He taught that the essence of God can never be known by his creature even in the next life, but that his uncreated energies or operations can be known both in this life and in the next, and convey to the hesychast in this life and to the righteous in the next life a true spiritual knowledge of God. In Palamite theology, it is the uncreated energies of God that illumine the hesychast who has been vouchsafed an experience of the uncreated light.\\n\\nIn 1341, the dispute came before a synod held at Constantinople and presided over by the Emperor Andronicus III; the synod, taking into account the regard in which the writings of the pseudo-Dionysius were held, condemned Barlaam, who recanted and returned to Calabria, afterwards becoming a bishop in the Catholic Church.\\n\\nOne of Barlaam\\'s friends, Gregory Akindynos, who originally was also a friend of St Gregory Palamas, took up the controversy, which also played a role in the civil war between the supporters of John Cantacuzenus and John V Palaiologos. Three other synods on the subject were held, at the second of which the followers of Barlaam gained a brief victory. But in 1351 at a synod under the presidency of the Emperor John VI Cantacuzenus, hesychast doctrine was established as the doctrine of the Orthodox Church.\\n\\nRoman Catholic opinions of hesychasm\\nSt. John Cassian is not represented in the Philokalia except by two brief extracts, but this is most likely due to his having written in Latin. His works (Coenobitical Institutions and the Conferences) represent a transmittal of Evagrius Pontikos\\' ascetical doctrines to the West. These works formed the basis of much of the spirituality of the Order of Saint Benedict and its offshoots. Hence, the tradition of St John Cassian in the West concerning the spiritual practice of the hermit can be considered to be a tradition that is parallel to that of hesychasm in the Eastern Orthodox Church.\\n\\nWhile Constantinople experienced a succession of councils alternately approving and condemning doctrine concerning hesychasm considered as identified with Palamism (the last of the five senses in which, according to Kallistos Ware, the term is used), the Western Church held no council in which to make a pronouncement on the issue, and the word \"hesychasm\" does not appear in the Enchiridion Symbolorum et Definitionum (Handbook of Creeds and Definitions), the collection of Roman Catholic teachings originally compiled by Heinrich Joseph Dominicus Denzinger.\\n\\nThe Roman Catholic Church has thus never expressed any condemnation of Palamism, and uses in its liturgy readings from the work of Nicholas Kabasilas, a supporter of Palamas in the controversy that took place in the East. Its Liturgy of the Hours includes extracts from Kabasilas\\'s Life in Christ on Tuesday, Wednesday, and Thursday of the Fifth Week of Easter in Year II of the two-year cycle for the Office of Readings.\\n\\nWestern theologians have tended to reject hesychasm, in some instances equating it with quietism, perhaps because \"quietism\" is the literal translation of \"hesychasm\". However, according to Kallistos Ware, \"To translate \\'hesychasm\\' as \\'quietism,\\' while perhaps etymologically defensible, is historically and theologically misleading.\" Ware asserts that \"the distinctive tenets of the 17th-century Western quietists is not characteristic of Greek hesychasm.\" Elsewhere too, Ware argues that it is important not to translate \"hesychasm\" as \"quietism\".\\n\\nThese theologians generally rejected the contention that, in the case of God, the distinction between essence and energies is real rather than, albeit with a foundation in reality, notional (in the mind). In their view, affirming an ontological essence-energies distinction in God contradicted the teaching of the First Council of Nicaea on divine unity. According to Adrian Fortescue, the Scholastic theory that God is pure actuality prevented Palamism from having much influence in the West, and it was from Western Scholasticism that hesychasm\\'s philosophical opponents in the East borrowed their weapons.\\n\\nIn the Catholic Encyclopedia of 1909, Simon Vailhé accused Palamas\\'s teachings that humans could achieve a corporal perception of the divinity, and his distinction between God\\'s essence and his energies, as \"monstrous errors\" and \"perilous theological theories\". He further characterized the Eastern canonization of Palamas\\'s teachings as a \"resurrection of polytheism\". Fortescue, also writing in the Catholic Encyclopedia, claimed that \"the real distinction between God\\'s essence and operation remains one more principle, though it is rarely insisted on now, in which the Orthodox differ from Catholics.\"\\n\\nThe later 20th century saw a remarkable change in the attitude of Roman Catholic theologians to Palamas, a \"rehabilitation\" of him that has led to increasing parts of the Western Church considering him a saint, even if uncanonized. John Meyendorff describes the 20th-century rehabilitation of Palamas in the Western Church as a \"remarkable event in the history of scholarship.\" Andreas Andreopoulos cites the 1910 Catholic Encyclopedia article by Fortescue as an example of how Barlaam\\'s distrustful and hostile attitude regarding hesychasm survived until recently in the West, adding that now \"the Western world has started to rediscover what amounts to a lost tradition. Hesychasm, which was never anything close to a scholar\\'s pursuit, is now studied by Western theologians who are astounded by the profound thought and spirituality of late Byzantium.\"\\n\\nSome Western scholars maintain that there is no conflict between Palamas\\'s teaching and Roman Catholic thought. Some Western theologians have incorporated the essence-energies distinction into their own thinking.\\nFor example, G. Philips asserts that the essence-energies distinction as presented by Palamas is \"a typical example of a perfectly admissible theological pluralism\" that is compatible with the Roman Catholic magisterium.\\n\\nJeffrey D. Finch claims that \"the future of East-West rapprochement appears to be overcoming the modern polemics of neo-scholasticism and neo-Palamism.\"\\n\\nAccording to Kallistos Ware, some Western theologians, both Roman Catholic and Anglican, see the theology of Palamas as introducing an inadmissible division within God; however, others have incorporated his theology into their own thinking, maintaining, as Jeffrey D. Finch reports, that there is no conflict between his teaching and Roman Catholic thought.\\n\\nPope John Paul II repeatedly emphasized his respect for Eastern theology as an enrichment for the whole Church, declaring that, even after the painful division between the Christian East and the See of Rome, that theology has opened up profound thought-provoking perspectives of interest to the entire Catholic Church. He spoke in particular of the hesychast controversy. The term \"hesychasm\", he said, refers to a practice of prayer marked by deep tranquillity of the spirit intent on contemplating God unceasingly by invoking the name of Jesus. While from a Catholic viewpoint there have been tensions concerning some developments of the practice, the pope said, there is no denying the goodness of the intention that inspired its defence, which was to stress that man is offered the concrete possibility of uniting himself in his inner heart with God in that profound union of grace known as theosis, divinization.\\n\\nOriental Orthodox view of hesychasm \\nOriental Orthodox Christian clerics are \"wary of the hesychastic practices of the Jesus Prayer that developed later in the Eastern churches\". Fr. Matta el-Meskeen, a Coptic Orthodox clergyman, commented that hesychasm rid the concept of unceasing prayer from its simplicity, shifting \"its ascetical position as a humbling practice by itself to a mystical position, with programs, stipulations, technical and mechanical bases, degrees, objectives, results\".\\n\\nSee also\\n \\n Barlaam of Calabria\\n Caloyers\\n Centering Prayer\\n Dhikr\\n Eastern Catholic Churches\\n Eastern Orthodoxy\\n Henosis\\n Imiaslavie\\n Japa\\n Jesus Prayer\\n Mantra\\n Maranatha\\n Meditation\\n Mysticism\\n Philokalia\\n Poustinia\\n Prayer\\n Pratyahara\\n Quiet time\\n Quietism\\n Tabor Light\\n The Way of a Pilgrim\\n Theoria\\n Theosis\\n\\nExplanatory notes\\n\\nCitations\\n\\nGeneral sources \\n\\n The Philokalia.\\n The Ladder of Divine Ascent by St John of Sinai.\\n The Ascetical Homilies of St Isaac the Syrian.\\n Works of St Symeon the New Theologian.\\n Coenobitical Institutions and Conferences of St John Cassian.\\n The Way of the Pilgrim.\\n St Silouan the Athonite.  (Contains an introduction by Archimandrite Sophrony (Sakharov), immediate disciple of St Silouan, together with the meditations of St Silouan (1866–1938).)\\n Works of Archimandrite Sophrony (Sakharov) (1896–1993).\\n Elder Joseph the Hesychast.  (Life of a very influential Hesychast on Mt Athos who died in 1959.)\\n Monastic Wisdom. The Letters of Elder Joseph the Hesychast.\\n Wounded by Love. The Life and the Wisdom of Elder Porphyrios.  (Reminiscences and reflections of Elder Porphyrios (1906–1991) of Mt Athos.)\\n Works by Elder Paisios (1924–1994) of Mount Athos.  (A very well known Athonite Elder and Hesychast.)\\n Elder Ephraim of Katounakia.  Translated by Tessy Vassiliadou-Christodoulou. (Life and teachings of Elder Ephraim (1912–1998) of Katounakia, Mt Athos, a disciple of Elder Joseph the Hesychast.)\\n Hieromonachos Charalampos Dionusiates, O didaskalos tes noeras proseuches (Hieromonk Charalambos of the Monastery of Dionysiou, The Teacher of Mental Prayer).  (Life and teachings of Elder Charalambos (1910–2001), sometime Abbot of the Monastery of Dionysiou, Mt Athos, and a disciple of Elder Joseph the Hesychast. In Greek, available in English.)\\n Works of Archimandrite Aimilianos (1934–2019) of the Monastery of Simonos Petra, Mt Athos, especially Volumes I and II.\\n Counsels from the Holy Mountain. Selected from the Lessons and Homilies of Elder Ephraim. (Archimandrite Ephraim of the Monastery of St Anthony, Florence, Arizona. Formerly Abbot of the Monastery of Philotheou on Mt Athos, and a disciple of Elder Joseph the Hesychast. Not to be confused with Elder Ephraim of Katounakia.)\\nPaths to the Heart: Sufism and the Christian East, edited by James Cutsinger\\n Hesychasm: an annotated bibliography, Sergey S. Horujy, Moscow 2004\\n\\nFurther reading\\n \\n\\nExternal links\\n\\n \"Hesychasm\", Encyclopædia Britannica\\'\\'\\n Hesychasm Library\\n The Jesus Prayer, Orthodox Church in America\\n Hesychasm in Orthodox Christian Tradition, St. Andrew Greek Orthodox Church\\n The Neptic and Hesychastic Character of Orthodox Athonite Monasticism, Archimandrite Georgios, the Holy Monastery of St. Gregorios\\n\\n \\nCatholic–Eastern Orthodox ecumenism\\nChristian contemplation\\nChristian mysticism\\nChristian prayer\\nChristian terminology\\nMedieval Athos\\nNondualism'"
      ]
     },
     "execution_count": 18,
     "metadata": {},
     "output_type": "execute_result"
    }
   ],
   "source": [
    "vector_1.data.body"
   ]
  },
  {
   "cell_type": "code",
   "execution_count": 34,
   "metadata": {},
   "outputs": [
    {
     "data": {
      "text/plain": [
       "'Spanish may refer to:\\n Items from or related to Spain:\\nSpaniards, a nation and ethnic group indigenous to Spain\\nSpanish language\\nSpanish cuisine\\n\\nOther places\\n Spanish, Ontario, Canada\\n Spanish River (disambiguation), the name of several rivers\\n Spanish Town, Jamaica\\n\\nOther uses\\n John J. Spanish (1922–2019), American politician\\n \"Spanish\" (song), a single by Craig David, 2003\\n\\nSee also\\n \\n \\n Español (disambiguation)\\n Hispania, the Roman and Greek name for the Iberian Peninsula\\n Hispanic, the people, nations, and cultures that have a historical link to Spain\\n Hispanic (disambiguation)\\n Hispanism\\n Spain (disambiguation)\\n National and regional identity in Spain\\n Culture of Spain\\n Spanish Fort (disambiguation)\\n\\nLanguage and nationality disambiguation pages'"
      ]
     },
     "execution_count": 34,
     "metadata": {},
     "output_type": "execute_result"
    }
   ],
   "source": [
    "similar_vectors[1]['vector'].data.body"
   ]
  },
  {
   "cell_type": "code",
   "execution_count": null,
   "metadata": {},
   "outputs": [],
   "source": []
  }
 ],
 "metadata": {
  "kernelspec": {
   "display_name": "venv",
   "language": "python",
   "name": "python3"
  },
  "language_info": {
   "codemirror_mode": {
    "name": "ipython",
    "version": 3
   },
   "file_extension": ".py",
   "mimetype": "text/x-python",
   "name": "python",
   "nbconvert_exporter": "python",
   "pygments_lexer": "ipython3",
   "version": "3.11.3"
  },
  "orig_nbformat": 4
 },
 "nbformat": 4,
 "nbformat_minor": 2
}

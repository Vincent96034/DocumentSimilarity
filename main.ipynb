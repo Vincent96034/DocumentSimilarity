{
 "cells": [
  {
   "cell_type": "code",
   "execution_count": 1,
   "metadata": {},
   "outputs": [],
   "source": [
    "import pandas as pd\n",
    "from tqdm import tqdm\n",
    "import pprint\n",
    "\n",
    "from embedding import OneHotEmbedder, Doc2VecEmbedder\n",
    "from vectorstore import SimpleVectorDatabase\n",
    "from models import TextDoc, Vector"
   ]
  },
  {
   "cell_type": "code",
   "execution_count": 2,
   "metadata": {},
   "outputs": [],
   "source": [
    "# This parameter is used to set the vector dimension of the embedding algorithm and the \n",
    "# vector database. The higher the dimension, the more accurate the results will be, but\n",
    "# the more computationally expensive the calculations will be. OpenAI's embedding models\n",
    "# use a dimension of 1536 as a reference.\n",
    "\n",
    "VECTOR_DIM = 200"
   ]
  },
  {
   "cell_type": "code",
   "execution_count": 3,
   "metadata": {},
   "outputs": [
    {
     "data": {
      "text/html": [
       "<div>\n",
       "<style scoped>\n",
       "    .dataframe tbody tr th:only-of-type {\n",
       "        vertical-align: middle;\n",
       "    }\n",
       "\n",
       "    .dataframe tbody tr th {\n",
       "        vertical-align: top;\n",
       "    }\n",
       "\n",
       "    .dataframe thead th {\n",
       "        text-align: right;\n",
       "    }\n",
       "</style>\n",
       "<table border=\"1\" class=\"dataframe\">\n",
       "  <thead>\n",
       "    <tr style=\"text-align: right;\">\n",
       "      <th></th>\n",
       "      <th>id</th>\n",
       "      <th>url</th>\n",
       "      <th>title</th>\n",
       "      <th>text</th>\n",
       "    </tr>\n",
       "  </thead>\n",
       "  <tbody>\n",
       "    <tr>\n",
       "      <th>0</th>\n",
       "      <td>3255</td>\n",
       "      <td>https://en.wikipedia.org/wiki/Apostles%27%20Creed</td>\n",
       "      <td>Apostles' Creed</td>\n",
       "      <td>The Apostles' Creed (Latin: Symbolum Apostolor...</td>\n",
       "    </tr>\n",
       "    <tr>\n",
       "      <th>1</th>\n",
       "      <td>27487</td>\n",
       "      <td>https://en.wikipedia.org/wiki/Split%20screen%2...</td>\n",
       "      <td>Split screen (video production)</td>\n",
       "      <td>In film and video production, split screen is ...</td>\n",
       "    </tr>\n",
       "    <tr>\n",
       "      <th>2</th>\n",
       "      <td>37686</td>\n",
       "      <td>https://en.wikipedia.org/wiki/Parasports</td>\n",
       "      <td>Parasports</td>\n",
       "      <td>Parasports are sports played by people with a ...</td>\n",
       "    </tr>\n",
       "    <tr>\n",
       "      <th>3</th>\n",
       "      <td>18739</td>\n",
       "      <td>https://en.wikipedia.org/wiki/Laika</td>\n",
       "      <td>Laika</td>\n",
       "      <td>Laika (; c. 1954 – 3 November 1957) was a Sovi...</td>\n",
       "    </tr>\n",
       "    <tr>\n",
       "      <th>4</th>\n",
       "      <td>39095</td>\n",
       "      <td>https://en.wikipedia.org/wiki/Extension%20%28s...</td>\n",
       "      <td>Extension (semantics)</td>\n",
       "      <td>§\\nIn any of several fields of study that trea...</td>\n",
       "    </tr>\n",
       "  </tbody>\n",
       "</table>\n",
       "</div>"
      ],
      "text/plain": [
       "      id                                                url  \\\n",
       "0   3255  https://en.wikipedia.org/wiki/Apostles%27%20Creed   \n",
       "1  27487  https://en.wikipedia.org/wiki/Split%20screen%2...   \n",
       "2  37686           https://en.wikipedia.org/wiki/Parasports   \n",
       "3  18739                https://en.wikipedia.org/wiki/Laika   \n",
       "4  39095  https://en.wikipedia.org/wiki/Extension%20%28s...   \n",
       "\n",
       "                             title  \\\n",
       "0                  Apostles' Creed   \n",
       "1  Split screen (video production)   \n",
       "2                       Parasports   \n",
       "3                            Laika   \n",
       "4            Extension (semantics)   \n",
       "\n",
       "                                                text  \n",
       "0  The Apostles' Creed (Latin: Symbolum Apostolor...  \n",
       "1  In film and video production, split screen is ...  \n",
       "2  Parasports are sports played by people with a ...  \n",
       "3  Laika (; c. 1954 – 3 November 1957) was a Sovi...  \n",
       "4  §\\nIn any of several fields of study that trea...  "
      ]
     },
     "execution_count": 3,
     "metadata": {},
     "output_type": "execute_result"
    }
   ],
   "source": [
    "# load wikipedia dataset (find data also in the `data_load` notebook)\n",
    "dataset = pd.read_csv(\"data_local/wiki_subset_small.csv\", sep=\",\")\n",
    "\n",
    "# take only the first rows due to computation time\n",
    "dataset = dataset.head(VECTOR_DIM)\n",
    "dataset.head()"
   ]
  },
  {
   "cell_type": "code",
   "execution_count": 18,
   "metadata": {},
   "outputs": [
    {
     "name": "stderr",
     "output_type": "stream",
     "text": [
      "2023-12-04 13:56:01,414::onehotembedder.py[_fit()]::INFO::Fitting embedder. Preprocessing documents...\n",
      "100%|██████████| 200/200 [00:03<00:00, 53.31it/s]\n",
      "2023-12-04 13:56:05,193::onehotembedder.py[_fit()]::INFO::Corpus created with 48639 words.\n"
     ]
    }
   ],
   "source": [
    "# Choose the embedder model to use: OneHot or Doc2Vec currently available\n",
    "embedder = OneHotEmbedder(vector_dim=None, encoding_method=\"additive\") # Doc2VecEmbedder(vector_dim=VECTOR_DIM)\n",
    "\n",
    "# fit the embedder model: this could take a view minutes\n",
    "embedder.fit(list(dataset.text))"
   ]
  },
  {
   "cell_type": "code",
   "execution_count": 12,
   "metadata": {},
   "outputs": [
    {
     "name": "stderr",
     "output_type": "stream",
     "text": [
      "100%|██████████| 200/200 [00:07<00:00, 27.45it/s]\n"
     ]
    }
   ],
   "source": [
    "# create vector database instance\n",
    "vecdb = SimpleVectorDatabase(vector_dim=VECTOR_DIM)\n",
    "\n",
    "# create vectors and stores them in the database\n",
    "for i in tqdm(range(len(dataset))):\n",
    "    row = dataset.iloc[i]\n",
    "    doc = TextDoc(row.text)\n",
    "    vec = Vector(\n",
    "        embedding=embedder.embed(doc),\n",
    "        data=TextDoc(doc),\n",
    "        metadata={\"type\": \"wikipedia\", \"src\": row.url, \"title\": row.title})\n",
    "    vecdb.upsert(vec)"
   ]
  },
  {
   "cell_type": "code",
   "execution_count": 13,
   "metadata": {},
   "outputs": [
    {
     "name": "stdout",
     "output_type": "stream",
     "text": [
      "TextDoc(1318): Calligra Words is a word processor, which is part of Ca ...\n",
      "<Vector b420e093-29e1-486e-b011-ad036f812ae4 (200) : TextDoc(1318): Calligra Words is a word processor, which is part of Ca ...>\n"
     ]
    }
   ],
   "source": [
    "# Let's take the last row of the dataset and query the database for similar vectors.\n",
    "row = dataset.iloc[-1,:]\n",
    "new_doc = TextDoc(row.text)\n",
    "print(new_doc)\n",
    "\n",
    "# create the vector model used by our database\n",
    "new_vec = Vector(\n",
    "    embedding=embedder.embed(new_doc),\n",
    "    data=TextDoc(new_doc),\n",
    "    metadata={\"type\": \"wikipedia\", \"src\": row.url, \"title\": row.title}\n",
    ")\n",
    "print(new_vec)"
   ]
  },
  {
   "cell_type": "code",
   "execution_count": 14,
   "metadata": {},
   "outputs": [
    {
     "data": {
      "text/plain": [
       "[{'vector': <Vector b865b78d-72d4-4656-b70a-d49de2535d0c (200) : TextDoc(1318): Calligra Words is a word processor, which is part of Ca ...>,\n",
       "  'score': 1108.7594999996882},\n",
       " {'vector': <Vector 45fca3bf-ed35-4e74-8f49-ae2470fa2e12 (200) : TextDoc(281): Jan Borukowski of Bielin (1524–1584) was the Bishop\n",
       "  of  ...>,\n",
       "  'score': 929.0194999997086},\n",
       " {'vector': <Vector 1923b6df-24a1-4acd-abaf-e6507a533a9d (200) : TextDoc(308): The bell curve is typical of the normal distribution.\n",
       "  \n",
       "   ...>,\n",
       "  'score': 926.0444999997198},\n",
       " {'vector': <Vector c68520cd-e726-479c-8292-51d3092b8fbc (200) : TextDoc(141): The 1290s was a decade of the Julian Calendar which beg ...>,\n",
       "  'score': 923.2194999997098},\n",
       " {'vector': <Vector 5de16f85-0fb7-4118-b962-2ac8c4b56d00 (200) : TextDoc(324): Islamic Jihad may refer to:\n",
       "  \n",
       "   Islamic Jihad Movement in ...>,\n",
       "  'score': 923.1994999996916}]"
      ]
     },
     "execution_count": 14,
     "metadata": {},
     "output_type": "execute_result"
    }
   ],
   "source": [
    "# Now we can query the database for similar vectors. Select the measure to use and the\n",
    "# number of similar vectors to return.\n",
    "# Currently implemented measures are: cosine, euclidean and dot.\n",
    "similar_vectors = vecdb.sim_search(new_vec, measure=\"dot\", k=5)\n",
    "similar_vectors"
   ]
  },
  {
   "cell_type": "code",
   "execution_count": 15,
   "metadata": {},
   "outputs": [
    {
     "name": "stdout",
     "output_type": "stream",
     "text": [
      "Vector:       [title: Calligra Words] TextDoc(1318): Calligra Words is a word processor, which is part of Ca ...\n",
      "Most similar: [title: Calligra Words] TextDoc(1318): Calligra Words is a word processor, which is part of Ca ...\n",
      "Most similar: [title: Jan Borukowski] TextDoc(281): Jan Borukowski of Bielin (1524–1584) was the Bishop\n",
      "of  ...\n",
      "Most similar: [title: Bell curve (disambiguation)] TextDoc(308): The bell curve is typical of the normal distribution.\n",
      "\n",
      " ...\n",
      "Most similar: [title: 1290s] TextDoc(141): The 1290s was a decade of the Julian Calendar which beg ...\n",
      "Most similar: [title: Islamic Jihad] TextDoc(324): Islamic Jihad may refer to:\n",
      "\n",
      " Islamic Jihad Movement in ...\n"
     ]
    }
   ],
   "source": [
    "print(f\"Vector:       [title: {new_vec.metadata['title']}] {new_vec.data}\")\n",
    "for i in range(len(similar_vectors)):\n",
    "    print(f\"Most similar: [title: {similar_vectors[i]['vector'].metadata['title']}] {similar_vectors[i]['vector'].data}\")"
   ]
  },
  {
   "cell_type": "code",
   "execution_count": 16,
   "metadata": {},
   "outputs": [
    {
     "name": "stdout",
     "output_type": "stream",
     "text": [
      "('Calligra Words is a word processor, which is part of Calligra Suite and developed by KDE as free software.\\n'\n",
      " '\\n'\n",
      " 'History \\n'\n",
      " '\\n'\n",
      " 'When the Calligra Suite was formed, unlike the other Calligra applications Words was not a continuation of the corresponding KOffice application – '\n",
      " 'KWord. The Words was largely written from scratch – in May 2011 a completely new layout engine was announced. The first release was made available '\n",
      " 'on , using the version number 2.4 to match the rest of Calligra Suite.\\n'\n",
      " '\\n'\n",
      " 'Reception \\n'\n",
      " \"Initial reception of Calligra Words shortly after the 2.4 release was mixed. While Linux Pro Magazine Online's Bruce Byfield wrote “Calligra \"\n",
      " 'needed an impressive first release. Perhaps surprisingly, and to the development team’s credit, it has managed one in 2.4.”, he also noted that '\n",
      " '“Words in particular is still lacking features”. He concluded that Calligra is “worth keeping an eye on”.\\n'\n",
      " '\\n'\n",
      " 'On the other hand, Calligra Words became the default word processor in Kubuntu 12.04 – replacing LibreOffice Writ')\n"
     ]
    }
   ],
   "source": [
    "# Search Article\n",
    "pp = pprint.PrettyPrinter(width=150, compact=True)\n",
    "pp.pprint(new_vec.data.body[:1000])"
   ]
  },
  {
   "cell_type": "code",
   "execution_count": 17,
   "metadata": {},
   "outputs": [
    {
     "name": "stdout",
     "output_type": "stream",
     "text": [
      "('Jan Borukowski of Bielin (1524–1584) was the Bishop\\n'\n",
      " 'of Przemyśl, and was the royal secretary of Poland from 1553. In\\n'\n",
      " '1569, he signed the act of annexation of Podlaskie, Volhynia and Kyiv to the kingdom during Sejm in Lublin.\\n'\n",
      " '\\n'\n",
      " 'References\\n'\n",
      " '\\n'\n",
      " '1524 births\\n'\n",
      " '1584 deaths\\n'\n",
      " 'Bishops of Przemyśl')\n"
     ]
    }
   ],
   "source": [
    "# Search Result Article\n",
    "pp.pprint(similar_vectors[1]['vector'].data.body[:1000])"
   ]
  }
 ],
 "metadata": {
  "kernelspec": {
   "display_name": "venv",
   "language": "python",
   "name": "python3"
  },
  "language_info": {
   "codemirror_mode": {
    "name": "ipython",
    "version": 3
   },
   "file_extension": ".py",
   "mimetype": "text/x-python",
   "name": "python",
   "nbconvert_exporter": "python",
   "pygments_lexer": "ipython3",
   "version": "3.11.3"
  },
  "orig_nbformat": 4
 },
 "nbformat": 4,
 "nbformat_minor": 2
}

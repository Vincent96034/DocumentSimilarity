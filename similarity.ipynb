{
 "cells": [
  {
   "cell_type": "code",
   "execution_count": 1,
   "metadata": {},
   "outputs": [],
   "source": [
    "from vectorstore.simplevec import SimpleVectorDatabase\n",
    "from models.vec import Vector"
   ]
  },
  {
   "cell_type": "code",
   "execution_count": 2,
   "metadata": {},
   "outputs": [],
   "source": [
    "vec = Vector(embedding=[1,1,1,1])\n",
    "vec2 = Vector(embedding=[1,2,1,0])\n",
    "vec3 = Vector(embedding=[5,2,1,9])"
   ]
  },
  {
   "cell_type": "code",
   "execution_count": 3,
   "metadata": {},
   "outputs": [
    {
     "data": {
      "text/plain": [
       "4"
      ]
     },
     "execution_count": 3,
     "metadata": {},
     "output_type": "execute_result"
    }
   ],
   "source": [
    "vec.vector_dim"
   ]
  },
  {
   "cell_type": "code",
   "execution_count": 4,
   "metadata": {},
   "outputs": [],
   "source": [
    "db = SimpleVectorDatabase(vector_dim=4)"
   ]
  },
  {
   "cell_type": "code",
   "execution_count": 5,
   "metadata": {},
   "outputs": [
    {
     "data": {
      "text/plain": [
       "{}"
      ]
     },
     "execution_count": 5,
     "metadata": {},
     "output_type": "execute_result"
    }
   ],
   "source": [
    "db.data"
   ]
  },
  {
   "cell_type": "code",
   "execution_count": 21,
   "metadata": {},
   "outputs": [
    {
     "data": {
      "text/plain": [
       "[{'vector': Vector(embedding=array([1, 1, 1, 1]), vec_id=UUID('a633ebc5-9508-41e5-96d2-bf7aca07713f'), data=None, metadata=None),\n",
       "  'score': 0.0},\n",
       " {'vector': Vector(embedding=array([1, 2, 1, 0]), vec_id=UUID('88a4bfac-fbeb-451b-98cd-a675b37c4a1f'), data=None, metadata=None),\n",
       "  'score': 1.4142135623730951},\n",
       " {'vector': Vector(embedding=array([5, 2, 1, 9]), vec_id=UUID('641fa08d-5b00-407a-b283-bbc67305ba65'), data=None, metadata=None),\n",
       "  'score': 9.0}]"
      ]
     },
     "execution_count": 21,
     "metadata": {},
     "output_type": "execute_result"
    }
   ],
   "source": [
    "db.sim_search(vec, measure=\"euclidean\")"
   ]
  },
  {
   "cell_type": "code",
   "execution_count": null,
   "metadata": {},
   "outputs": [],
   "source": []
  }
 ],
 "metadata": {
  "kernelspec": {
   "display_name": "venv",
   "language": "python",
   "name": "python3"
  },
  "language_info": {
   "codemirror_mode": {
    "name": "ipython",
    "version": 3
   },
   "file_extension": ".py",
   "mimetype": "text/x-python",
   "name": "python",
   "nbconvert_exporter": "python",
   "pygments_lexer": "ipython3",
   "version": "3.11.3"
  },
  "orig_nbformat": 4
 },
 "nbformat": 4,
 "nbformat_minor": 2
}

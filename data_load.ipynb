{
 "cells": [
  {
   "cell_type": "markdown",
   "metadata": {},
   "source": [
    "Data source: https://huggingface.co/datasets/wikipedia/viewer/20220301.en"
   ]
  },
  {
   "cell_type": "code",
   "execution_count": 21,
   "metadata": {},
   "outputs": [],
   "source": [
    "from datasets import load_dataset\n",
    "import pandas as pd\n",
    "from tqdm import tqdm"
   ]
  },
  {
   "cell_type": "code",
   "execution_count": 22,
   "metadata": {},
   "outputs": [],
   "source": [
    "def download_wikipedia_subset_streaming(number_of_articles=5000):\n",
    "    # Stream the dataset to prevent memory issues\n",
    "    dataset_streaming = load_dataset('wikipedia', '20220301.en', split='train', streaming=True)\n",
    "    subset = []\n",
    "    for article in tqdm(dataset_streaming):\n",
    "        subset.append(article)\n",
    "        if len(subset) >= number_of_articles:\n",
    "            break\n",
    "    return subset"
   ]
  },
  {
   "cell_type": "code",
   "execution_count": 25,
   "metadata": {},
   "outputs": [
    {
     "name": "stderr",
     "output_type": "stream",
     "text": [
      "19999it [00:45, 440.68it/s]\n"
     ]
    }
   ],
   "source": [
    "wiki_subset = download_wikipedia_subset_streaming(20_000)"
   ]
  },
  {
   "cell_type": "code",
   "execution_count": 26,
   "metadata": {},
   "outputs": [],
   "source": [
    "df = pd.DataFrame(wiki_subset)\n",
    "df_sub = df.sample(5000).reset_index(drop=True) # Sample 5000 articles"
   ]
  },
  {
   "cell_type": "code",
   "execution_count": 40,
   "metadata": {},
   "outputs": [],
   "source": [
    "df.to_csv('data/wiki_subset.csv', index=False)\n",
    "df_sub.to_csv('data/wiki_subset_small.csv', index=False)"
   ]
  }
 ],
 "metadata": {
  "kernelspec": {
   "display_name": "venv",
   "language": "python",
   "name": "python3"
  },
  "language_info": {
   "codemirror_mode": {
    "name": "ipython",
    "version": 3
   },
   "file_extension": ".py",
   "mimetype": "text/x-python",
   "name": "python",
   "nbconvert_exporter": "python",
   "pygments_lexer": "ipython3",
   "version": "3.11.3"
  },
  "orig_nbformat": 4
 },
 "nbformat": 4,
 "nbformat_minor": 2
}
